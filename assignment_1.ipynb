{
 "cells": [
  {
   "cell_type": "markdown",
   "id": "54c8bc4a",
   "metadata": {},
   "source": [
    "1. In the below elements which of them are values or an expression? eg:- values can be integer or string and expressions will be mathematical operators."
   ]
  },
  {
   "cell_type": "markdown",
   "id": "a4994be7",
   "metadata": {},
   "source": [
    "### * is expression\n",
    "\n",
    "###  'hello' is value\n",
    "\n",
    "### -87.8 is value\n",
    "\n",
    "### - is expression\n",
    "\n",
    "### / is expression\n",
    "\n",
    "### + is expression\n"
   ]
  },
  {
   "cell_type": "markdown",
   "id": "c82f2041",
   "metadata": {},
   "source": [
    "2. What is the difference between string and variable?"
   ]
  },
  {
   "cell_type": "markdown",
   "id": "ec26b8a8",
   "metadata": {},
   "source": [
    "### String is a sequence of characters where as variable is a data container where data of different data types is stored."
   ]
  },
  {
   "cell_type": "markdown",
   "id": "08d2836a",
   "metadata": {},
   "source": [
    "3. Describe three different data types"
   ]
  },
  {
   "cell_type": "markdown",
   "id": "4e7e9d6d",
   "metadata": {},
   "source": [
    "### Str – sequence of characters\n",
    "### Int – integer values\n",
    "### Float – decimal values\n"
   ]
  },
  {
   "cell_type": "markdown",
   "id": "179d8864",
   "metadata": {},
   "source": [
    "4. What is an expression made up of? What do all expressions do?"
   ]
  },
  {
   "cell_type": "markdown",
   "id": "264427b6",
   "metadata": {},
   "source": [
    "### Expressions are mathematical operators used to make mathematical operations on given data types"
   ]
  },
  {
   "cell_type": "markdown",
   "id": "8c48dfd3",
   "metadata": {},
   "source": [
    "5. This assignment statements, like spam = 10. What is the difference between an expression and a statement?"
   ]
  },
  {
   "cell_type": "markdown",
   "id": "91c1d2f4",
   "metadata": {},
   "source": [
    "### Statements are used to assign values to a variable where as expressions are used to perform operations on top of assigned variables"
   ]
  },
  {
   "cell_type": "markdown",
   "id": "194e22a6",
   "metadata": {},
   "source": [
    "6. After running the following code, what does the variable bacon contain?\n",
    "bacon = 22\n",
    "bacon + 1\n"
   ]
  },
  {
   "cell_type": "code",
   "execution_count": 1,
   "id": "b570b3d6",
   "metadata": {},
   "outputs": [
    {
     "name": "stdout",
     "output_type": "stream",
     "text": [
      "22\n"
     ]
    }
   ],
   "source": [
    "bacon = 22\n",
    "bacon +1\n",
    "print(bacon) # will be 22 only"
   ]
  },
  {
   "cell_type": "markdown",
   "id": "f2b585a2",
   "metadata": {},
   "source": [
    "7. What should the values of the following two terms be?\n",
    "'spam' + 'spamspam'\n",
    "'spam' * 3\n"
   ]
  },
  {
   "cell_type": "code",
   "execution_count": 4,
   "id": "e5e0e211",
   "metadata": {},
   "outputs": [
    {
     "name": "stdout",
     "output_type": "stream",
     "text": [
      "spamspamspam spamspamspam\n"
     ]
    }
   ],
   "source": [
    "print('spam'*3,'spam'+'spamspam')"
   ]
  },
  {
   "cell_type": "markdown",
   "id": "71d83e20",
   "metadata": {},
   "source": [
    "8. Why is eggs a valid variable name while 100 is invalid?"
   ]
  },
  {
   "cell_type": "markdown",
   "id": "fa98c595",
   "metadata": {},
   "source": [
    "### Since there is particular  convection to name variable and you cannot use numericals to name a variable."
   ]
  },
  {
   "cell_type": "markdown",
   "id": "a99bddfb",
   "metadata": {},
   "source": [
    "9. What three functions can be used to get the integer, floating-point number, or string version of a value?"
   ]
  },
  {
   "cell_type": "markdown",
   "id": "a775f669",
   "metadata": {},
   "source": [
    "###  int(),str(),float()"
   ]
  },
  {
   "cell_type": "markdown",
   "id": "7cf49b8c",
   "metadata": {},
   "source": [
    "10. Why does this expression cause an error? How can you fix it?\n",
    "\n",
    "'I have eaten ' + 99 + ' burritos.'"
   ]
  },
  {
   "cell_type": "markdown",
   "id": "41560bfc",
   "metadata": {},
   "source": [
    "### Since you are adding two different data types we need to use str(99)"
   ]
  },
  {
   "cell_type": "code",
   "execution_count": 6,
   "id": "48e04380",
   "metadata": {},
   "outputs": [
    {
     "name": "stdout",
     "output_type": "stream",
     "text": [
      "I have eaten 99 burritos.\n"
     ]
    }
   ],
   "source": [
    "print('I have eaten ' + str(99) + ' burritos.')"
   ]
  },
  {
   "cell_type": "code",
   "execution_count": null,
   "id": "23fb0b8d",
   "metadata": {},
   "outputs": [],
   "source": []
  }
 ],
 "metadata": {
  "kernelspec": {
   "display_name": "Python 3 (ipykernel)",
   "language": "python",
   "name": "python3"
  },
  "language_info": {
   "codemirror_mode": {
    "name": "ipython",
    "version": 3
   },
   "file_extension": ".py",
   "mimetype": "text/x-python",
   "name": "python",
   "nbconvert_exporter": "python",
   "pygments_lexer": "ipython3",
   "version": "3.9.6"
  }
 },
 "nbformat": 4,
 "nbformat_minor": 5
}
